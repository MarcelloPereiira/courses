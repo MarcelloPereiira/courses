{
 "cells": [
  {
   "cell_type": "markdown",
   "metadata": {},
   "source": [
    "# Pilhas"
   ]
  },
  {
   "cell_type": "markdown",
   "metadata": {},
   "source": [
    "## Introdução"
   ]
  },
  {
   "cell_type": "markdown",
   "metadata": {},
   "source": [
    "Pilhas são estruturas de dados largamente utilizadas nas aplicações de software. É muito utilizada quando se deseja guardar valores que serão usados em ordem reversa do que foram empilhados. As operações nas pilhas usam o conceito de LIFO (*last in first out*), ou seja, o primeiro a sair é o último que foi empilhado.\n",
    "\n",
    "Considere a pilha abaixo, implementada em Python:"
   ]
  },
  {
   "cell_type": "code",
   "execution_count": null,
   "metadata": {},
   "outputs": [],
   "source": [
    "pilha = [1,2,3]\n",
    "\n",
    "pilha.pop()"
   ]
  },
  {
   "cell_type": "markdown",
   "metadata": {},
   "source": [
    "O comando pilha.pop() basicamente tira um elemento da pilha, que foi o último a ser inserido. Pelo exemplo acima, o último elemento a entrar na pilha foi o número 3. \n",
    "\n",
    "Agora considere a pilha abaixo:"
   ]
  },
  {
   "cell_type": "code",
   "execution_count": null,
   "metadata": {
    "collapsed": true
   },
   "outputs": [],
   "source": [
    "notas = [10, 8, 9, 4, 7]"
   ]
  },
  {
   "cell_type": "markdown",
   "metadata": {},
   "source": [
    "Quando uma pilha é inicializada dessa forma, os números são empilhados pela ordem em que são definidos, ou seja\n",
    "\n",
    "| Ordem de Entrada | Número | Pilha |\n",
    "| :---: | :---: | :---: |\n",
    "| 1o | 10 | 10 |\n",
    "| 2o | 8 | 10 8 |\n",
    "| 3o | 9 | 10 8 9 |\n",
    "| 4o | 4 | 10 8 9 4|\n",
    "| 5o | 7 | 10 8 9 4 7|\n",
    "\n"
   ]
  },
  {
   "cell_type": "markdown",
   "metadata": {},
   "source": [
    "Já a saída da pilha segue a estratégia Lifo, ou seja, o último que entrou é o primeiro a sair:"
   ]
  },
  {
   "cell_type": "markdown",
   "metadata": {},
   "source": [
    "| Ordem de Saída | Número | Pilha |\n",
    "| :---: | :---: | :---: |\n",
    "| 1o | 7 | 10 8 9 4 |\n",
    "| 2o | 4 | 10 8 9 |\n",
    "| 3o | 9 | 10 8 |\n",
    "| 4o | 8 | 10|\n",
    "| 5o | 10 | - |\n"
   ]
  },
  {
   "cell_type": "markdown",
   "metadata": {},
   "source": [
    "## Operações de Entrada e Saída"
   ]
  },
  {
   "cell_type": "markdown",
   "metadata": {},
   "source": [
    "Em uma pilha, independente da linguagem de programação, existem duas operações básicas:\n",
    "\n",
    "- push: coloca na pilha\n",
    "- pop: tira da pilha"
   ]
  },
  {
   "cell_type": "markdown",
   "metadata": {},
   "source": [
    "Em Python, usa-se as seguintes funções para cada operação:\n",
    "\n",
    "- push: append()\n",
    "- pop: pop()\n",
    "\n",
    "Veja um exemplo abaixo para a operação de entrada (push):"
   ]
  },
  {
   "cell_type": "code",
   "execution_count": null,
   "metadata": {},
   "outputs": [],
   "source": [
    "notas = []\n",
    "\n",
    "# empilhando o primeiro valor\n",
    "notas.append(10)\n",
    "\n",
    "# empilhando o segundo valor\n",
    "notas.append(8)\n",
    "\n",
    "# empilhando o terceiro valor\n",
    "notas.append(6)\n",
    "\n",
    "# imprimindo a quantidade de valores da pilha\n",
    "print(len(notas))"
   ]
  },
  {
   "cell_type": "markdown",
   "metadata": {},
   "source": [
    "Para a operação de saída (pop), vamos usar a função pop():"
   ]
  },
  {
   "cell_type": "code",
   "execution_count": null,
   "metadata": {},
   "outputs": [],
   "source": [
    "# tirar o elemento 6\n",
    "notas.pop() \n",
    "\n",
    "# tirar o elemento 8\n",
    "notas.pop() \n",
    "\n",
    "# tirar o elemento 10\n",
    "notas.pop() \n",
    "\n",
    "# imprimindo a quantidade de valores da pilha\n",
    "print(len(notas))\n"
   ]
  },
  {
   "cell_type": "markdown",
   "metadata": {},
   "source": [
    "Note que, se você executar a célula acima duas vezes, Python vai mostrar um erro de pilha vazia: *IndexError: pop from empty list*"
   ]
  },
  {
   "cell_type": "markdown",
   "metadata": {},
   "source": [
    "Você pode salvar o resultado da função pop em uma variável, ou seja, ao executar a operação pop, o valor tirado da pilha é salvo em uma variável."
   ]
  },
  {
   "cell_type": "code",
   "execution_count": null,
   "metadata": {},
   "outputs": [],
   "source": [
    "notas = [10, 8, 3]\n",
    "\n",
    "nota = notas.pop()\n",
    "\n",
    "print(nota)"
   ]
  },
  {
   "cell_type": "markdown",
   "metadata": {},
   "source": [
    "**Observação: Ao contrário de outras linguagens, que têm estruturas próprias para pilhas, Python implementa o conceito de pilhas na própria estrutura de listas, que é outra estrutura de dados que veremos em aulas futuras.**"
   ]
  },
  {
   "cell_type": "markdown",
   "metadata": {},
   "source": [
    "## Exercícios"
   ]
  },
  {
   "cell_type": "markdown",
   "metadata": {},
   "source": [
    "** Ex 1: Implemente uma pilha que armazenará 3 notas **"
   ]
  },
  {
   "cell_type": "code",
   "execution_count": null,
   "metadata": {
    "collapsed": true
   },
   "outputs": [],
   "source": [
    "# criação da pilha com 3 notas"
   ]
  },
  {
   "cell_type": "markdown",
   "metadata": {},
   "source": [
    "** Ex 2: Agora crie a pilha a partir de 3 valores digitados pelo usuário. Que operação (pop, push) você irá usar? **"
   ]
  },
  {
   "cell_type": "code",
   "execution_count": null,
   "metadata": {
    "collapsed": true
   },
   "outputs": [],
   "source": [
    "# leitura de 3 notas e gravação em uma pilha"
   ]
  },
  {
   "cell_type": "markdown",
   "metadata": {},
   "source": [
    "** Ex 3: Faça o cálculo da média das 3 notas armazenadas. Você deve usar a operação de saída da pilha (pop) para retirar cada nota da pilha. **"
   ]
  },
  {
   "cell_type": "code",
   "execution_count": null,
   "metadata": {
    "collapsed": true
   },
   "outputs": [],
   "source": [
    "# cálculo de média"
   ]
  },
  {
   "cell_type": "markdown",
   "metadata": {},
   "source": [
    "** Ex 4: O seu desafio é alterar o código do exercício anterior para usar o mínimo possível de variáveis. **"
   ]
  },
  {
   "cell_type": "code",
   "execution_count": null,
   "metadata": {
    "collapsed": true
   },
   "outputs": [],
   "source": [
    "# implemente o mesmo exercício acima mas com o mínimo possível de variáveis."
   ]
  },
  {
   "cell_type": "markdown",
   "metadata": {},
   "source": [
    "** Ex 5: Escreva um programa que imprima seu nome de maneira reversa. Use pilhas na sua implementação **"
   ]
  },
  {
   "cell_type": "code",
   "execution_count": null,
   "metadata": {},
   "outputs": [],
   "source": [
    "# dica: você pode pegar uma letra da String acessando o seu índice\n",
    "\n",
    "nome = \"Python\"\n",
    "letra = nome[1] \n",
    "print(letra)\n"
   ]
  },
  {
   "cell_type": "markdown",
   "metadata": {},
   "source": [
    "** Ex 6 (Adaptado de [Sedgewick - Algorithms, 4th Edition](https://algs4.cs.princeton.edu/home/)): Uma letra significa push e um asterisco significa pop na sequência seguinte. Dê a sequência de valores devolvidos pelas operações pop quando esta seqüência de operações é realizada em uma pilha LIFO inicialmente vazia.**\n",
    "\n",
    " E U V \\* O \\* U P \\* A S S\\* A \\* \\* \\* R \\* \\* "
   ]
  },
  {
   "cell_type": "code",
   "execution_count": null,
   "metadata": {
    "collapsed": true
   },
   "outputs": [],
   "source": [
    "# dica: implemente ou faça o teste de mesa (mesmo sem código)"
   ]
  },
  {
   "cell_type": "markdown",
   "metadata": {},
   "source": [
    "**Ex 7: Considerando o código abaixo, implemente as operações de push e pop para que a pilha inicial seja transformada na pilha \"6 7 1 9 3\", onde 3 representa o topo da pilha**"
   ]
  },
  {
   "cell_type": "code",
   "execution_count": null,
   "metadata": {},
   "outputs": [],
   "source": [
    "pilha = [6,7,1,8,2]\n",
    "print(\"Pilha Inicial:\", pilha)\n",
    "\n",
    "#implemente a partir daqui\n",
    "\n",
    "\n",
    "\n",
    "# a saida deve ser 6 7 1 9 3\n",
    "print(\"Pilha Final:\", pilha)"
   ]
  },
  {
   "cell_type": "markdown",
   "metadata": {},
   "source": [
    "** Ex 8 (Adaptado de Concurso da Petrobras): Considere que:**\n",
    "\n",
    "- P1 é uma pilha com 5 posições, v(1) a v(5), na qual v(5) é o topo. \n",
    "- De v(1) até v(5), a pilha P1 está preenchida, respectivamente, com os símbolos Q5, Q3, Q1, Q4, Q2. \n",
    "- Há ainda mais duas pilhas, inicialmente vazias, P2 e P3, com o mesmo tamanho.\n",
    "\n",
    "Implemente um código em Python de modo que a pilha P1 esteja preenchida de v(5) até v(1), respectivamente, com os símbolos Q1, Q2, Q3, Q4, Q5"
   ]
  },
  {
   "cell_type": "code",
   "execution_count": null,
   "metadata": {},
   "outputs": [],
   "source": [
    "p1 = [\"Q5\",\"Q3\",\"Q1\",\"Q4\",\"Q2\"]\n",
    "p2 = []\n",
    "p3 = []\n",
    "\n",
    "#implemente sua solução aqui\n",
    "\n",
    "\n",
    "#deve imprimir Q5, Q4, Q3, Q2, Q1\n",
    "print(p1)"
   ]
  },
  {
   "cell_type": "markdown",
   "metadata": {},
   "source": [
    "** DESAFIO: Implemente o problema da Torre de Hanoi usando pilhas em Python. O conceito que foi dado nessa aula é suficiente para resolver o problema. Então, esforce-se primeiro para resolver o problema sem consultas externas. Lembre-se de desafiar a si próprio para ajudar na criação de novas conexões neurais e, com isso, aumentar o seu poder de raciocínio. ** \n",
    "\n",
    "Sugestão: estabeleça um tempo para si próprio para descobrir como resolver o problema em Python. Caso não consiga nesse tempo, aí sim pode buscar soluções já implementadas. Digamos que menos de 10 minutos é desistir fácil :-)"
   ]
  },
  {
   "cell_type": "code",
   "execution_count": null,
   "metadata": {
    "collapsed": true
   },
   "outputs": [],
   "source": [
    "# implemente o desafio"
   ]
  }
 ],
 "metadata": {
  "kernelspec": {
   "display_name": "Python 3",
   "language": "python",
   "name": "python3"
  },
  "language_info": {
   "codemirror_mode": {
    "name": "ipython",
    "version": 3
   },
   "file_extension": ".py",
   "mimetype": "text/x-python",
   "name": "python",
   "nbconvert_exporter": "python",
   "pygments_lexer": "ipython3",
   "version": "3.6.1"
  }
 },
 "nbformat": 4,
 "nbformat_minor": 2
}
