{
 "cells": [
  {
   "cell_type": "markdown",
   "metadata": {},
   "source": [
    "# Listas"
   ]
  },
  {
   "cell_type": "markdown",
   "metadata": {},
   "source": [
    "## Introdução"
   ]
  },
  {
   "cell_type": "markdown",
   "metadata": {},
   "source": [
    "Listas são estruturas onde ser armazenam dados do mesmo tipo (embora isso não seja uma obrigação). Em comparação com as filas e pilhas, acabam oferecendo mais recursos, o que a tornam uma opção mais aplicável em algumas situações.\n",
    "\n",
    "Operações comuns a listas:\n",
    "\n",
    "- Cria e apagar\n",
    "- Inserir um elemento na posição x\n",
    "- Remover um elemento da posição x\n",
    "- Acessar um valor de uma posição x\n",
    "- Alterar o valor\n",
    "- Combinar duas ou mais listas em uma só\n",
    "- Ordenação dos valores da lista\n"
   ]
  },
  {
   "cell_type": "markdown",
   "metadata": {},
   "source": [
    "Veja que, diferente da fila ou da pilha, a lista fornece a possibilidade de acessar elementos em uma dada posição, seja para consultar o valor ou para inserir/remover valores. Além disso, uma lista fornece recursos especialmente úteis como ordenação dos valores, sem que seja necessário a implementação de ordenação dos elementos de uma lista."
   ]
  },
  {
   "cell_type": "markdown",
   "metadata": {},
   "source": [
    "## Listas em Python"
   ]
  },
  {
   "cell_type": "markdown",
   "metadata": {},
   "source": [
    "Em Python, uma lista é criada exatamente como se cria uma pilha, ou seja, através do uso de colchetes contendo valores iniciais ou não."
   ]
  },
  {
   "cell_type": "markdown",
   "metadata": {},
   "source": [
    "Veja um exemplo com uma lista de valores vazios:"
   ]
  },
  {
   "cell_type": "code",
   "execution_count": null,
   "metadata": {
    "collapsed": true
   },
   "outputs": [],
   "source": [
    "listaVazia = []"
   ]
  },
  {
   "cell_type": "markdown",
   "metadata": {},
   "source": [
    "Para criar uma lista com valores iniciais, basta colocá-los dentro dos colchetes."
   ]
  },
  {
   "cell_type": "code",
   "execution_count": null,
   "metadata": {
    "collapsed": true
   },
   "outputs": [],
   "source": [
    "listaComValores = [10, 8, 4, 7]"
   ]
  },
  {
   "cell_type": "markdown",
   "metadata": {},
   "source": [
    "Como deve ter notado, é exatamente igual a uma pilha. Na verdadem Python implementa pilha usando uma estrutura de lista, ou seja, apenas com as operações de *push* e *pop*. "
   ]
  },
  {
   "cell_type": "markdown",
   "metadata": {},
   "source": [
    "## Operações em Listas"
   ]
  },
  {
   "cell_type": "markdown",
   "metadata": {},
   "source": [
    "### Inserir um elemento na lista"
   ]
  },
  {
   "cell_type": "code",
   "execution_count": null,
   "metadata": {},
   "outputs": [],
   "source": [
    "lista = [3,5,7]\n",
    "\n",
    "# insere o elemento 6 na 3a posição\n",
    "lista.insert(2,6)\n",
    "\n",
    "print(lista)"
   ]
  },
  {
   "cell_type": "markdown",
   "metadata": {},
   "source": [
    "Para inserir no final basta usar a função append()"
   ]
  },
  {
   "cell_type": "code",
   "execution_count": null,
   "metadata": {},
   "outputs": [],
   "source": [
    "lista = [3,5,7]\n",
    "\n",
    "# insere o elemento 6 no final da lista\n",
    "lista.append(6)\n",
    "\n",
    "print(lista)"
   ]
  },
  {
   "cell_type": "markdown",
   "metadata": {},
   "source": [
    "### Remover um Elemento da Lista"
   ]
  },
  {
   "cell_type": "code",
   "execution_count": null,
   "metadata": {},
   "outputs": [],
   "source": [
    "lista = [3,5,7]\n",
    "\n",
    "lista.remove(5)\n",
    "\n",
    "print(lista)"
   ]
  },
  {
   "cell_type": "markdown",
   "metadata": {},
   "source": [
    "Caso o elemento não exista, então dará erro"
   ]
  },
  {
   "cell_type": "code",
   "execution_count": null,
   "metadata": {},
   "outputs": [],
   "source": [
    "lista = [3,5,7]\n",
    "\n",
    "# elemento 6 não existe\n",
    "lista.remove(6)\n",
    "\n",
    "print(lista)"
   ]
  },
  {
   "cell_type": "markdown",
   "metadata": {},
   "source": [
    "### Remover um elemento de uma posição"
   ]
  },
  {
   "cell_type": "code",
   "execution_count": null,
   "metadata": {
    "collapsed": true
   },
   "outputs": [],
   "source": [
    "lista = [3,5,7]\n",
    "\n",
    "# vai remover o primero elemento\n",
    "lista.pop(0)\n",
    "\n",
    "print(lista)"
   ]
  },
  {
   "cell_type": "markdown",
   "metadata": {},
   "source": [
    "### Acessar um elemento da lista"
   ]
  },
  {
   "cell_type": "code",
   "execution_count": null,
   "metadata": {},
   "outputs": [],
   "source": [
    "lista = [3,5,7]\n",
    "\n",
    "print(lista[1])"
   ]
  },
  {
   "cell_type": "markdown",
   "metadata": {},
   "source": [
    "### Contar a ocorrência de um elemento em uma lista"
   ]
  },
  {
   "cell_type": "code",
   "execution_count": null,
   "metadata": {},
   "outputs": [],
   "source": [
    "lista = [3,5,7, 6, 8, 12, 8]\n",
    "\n",
    "valorProcurado = 8\n",
    "numeroElementos = lista.count(valorProcurado)\n",
    "\n",
    "print(\"Essa lista tem {} ocorrências do valor {}\".format(numeroElementos, valorProcurado))"
   ]
  },
  {
   "cell_type": "markdown",
   "metadata": {},
   "source": [
    "### Filtrar elementos"
   ]
  },
  {
   "cell_type": "code",
   "execution_count": null,
   "metadata": {},
   "outputs": [],
   "source": [
    "lista = [3,5,7, 6, 8, 12, 8]\n",
    "\n",
    "#lista todos os elementos > 5\n",
    "listaFiltrada = [x for x in lista if x > 5]\n",
    "print(listaFiltrada)\n",
    "\n",
    "# note que a lista original não é alterada\n",
    "print(lista)"
   ]
  },
  {
   "cell_type": "markdown",
   "metadata": {},
   "source": [
    "### Ordenar os elementos"
   ]
  },
  {
   "cell_type": "code",
   "execution_count": null,
   "metadata": {},
   "outputs": [],
   "source": [
    "lista = [5,4,7]\n",
    "lista.sort()\n",
    "print(lista)"
   ]
  },
  {
   "cell_type": "markdown",
   "metadata": {},
   "source": [
    "Caso queira a ordem reversa"
   ]
  },
  {
   "cell_type": "code",
   "execution_count": null,
   "metadata": {},
   "outputs": [],
   "source": [
    "lista = [5,4,7]\n",
    "lista.sort(reverse=True)\n",
    "print(lista)"
   ]
  },
  {
   "cell_type": "markdown",
   "metadata": {},
   "source": [
    "Para inverter os elementos"
   ]
  },
  {
   "cell_type": "code",
   "execution_count": null,
   "metadata": {},
   "outputs": [],
   "source": [
    "lista = [5,4,7]\n",
    "lista.reverse()\n",
    "print(lista)"
   ]
  },
  {
   "cell_type": "markdown",
   "metadata": {},
   "source": [
    "### Limpar os elementos da lista"
   ]
  },
  {
   "cell_type": "code",
   "execution_count": null,
   "metadata": {},
   "outputs": [],
   "source": [
    "lista = [5,4,7]\n",
    "lista.clear()\n",
    "print(lista)"
   ]
  },
  {
   "cell_type": "markdown",
   "metadata": {},
   "source": [
    "### Retornar a posição de um elemento da lista"
   ]
  },
  {
   "cell_type": "code",
   "execution_count": null,
   "metadata": {},
   "outputs": [],
   "source": [
    "lista = [5,4,7]\n",
    "\n",
    "# busca em que posição está o valor 4\n",
    "print(lista.index(4))"
   ]
  },
  {
   "cell_type": "markdown",
   "metadata": {},
   "source": [
    "Buscando um elemento que não existe"
   ]
  },
  {
   "cell_type": "code",
   "execution_count": null,
   "metadata": {},
   "outputs": [],
   "source": [
    "lista = [5,4,7]\n",
    "\n",
    "# busca em que posição está o valor 9. Se não tem, dará erro\n",
    "print(lista.index(9))"
   ]
  },
  {
   "cell_type": "markdown",
   "metadata": {},
   "source": [
    "Se desejar que seja impressa uma mensagem mais clara ao usuário, basta usar o bloco try-except:"
   ]
  },
  {
   "cell_type": "code",
   "execution_count": null,
   "metadata": {},
   "outputs": [],
   "source": [
    "lista = [5,4,7]\n",
    "\n",
    "try:\n",
    "    print(lista.index(9))\n",
    "except:\n",
    "    print(\"O valor não está na lista\")"
   ]
  },
  {
   "cell_type": "markdown",
   "metadata": {},
   "source": [
    "Se o elemento aparece mais de uma vez, então retorna a posição da primeira ocorrência"
   ]
  },
  {
   "cell_type": "code",
   "execution_count": null,
   "metadata": {},
   "outputs": [],
   "source": [
    "lista = [3,5,7, 6, 8, 12, 8]\n",
    "\n",
    "print(lista.index(8))"
   ]
  },
  {
   "cell_type": "markdown",
   "metadata": {},
   "source": [
    "## Exercícios"
   ]
  },
  {
   "cell_type": "markdown",
   "metadata": {},
   "source": [
    "** Ex 1: Crie uma lista com 4 nomes. Sua solução pode usar a inicialização da variável ou com as funções append ou insert**"
   ]
  },
  {
   "cell_type": "code",
   "execution_count": null,
   "metadata": {
    "collapsed": true
   },
   "outputs": [],
   "source": [
    "# implemente sua solução aqui"
   ]
  },
  {
   "cell_type": "markdown",
   "metadata": {},
   "source": [
    "** Ex 2: Altere o exemplo anterior para que, ao invés de valores fixos, o usuário digite 4 nomes. Use 4 instruções para leitura dos valores**"
   ]
  },
  {
   "cell_type": "code",
   "execution_count": null,
   "metadata": {
    "collapsed": true
   },
   "outputs": [],
   "source": [
    "# implemente sua solução aqui"
   ]
  },
  {
   "cell_type": "markdown",
   "metadata": {},
   "source": [
    "** Ex 3: A partir da lista criada no exercício anterior, informe ao usuário a lista ordenada dos valores**"
   ]
  },
  {
   "cell_type": "code",
   "execution_count": null,
   "metadata": {
    "collapsed": true
   },
   "outputs": [],
   "source": [
    "# implemente sua solução aqui"
   ]
  },
  {
   "cell_type": "markdown",
   "metadata": {},
   "source": [
    "** Ex 4: Altere a solução do exercício 2 para que seja usada uma estrutura de repetição para ler os nomes digitados pelo usuário. **"
   ]
  },
  {
   "cell_type": "code",
   "execution_count": null,
   "metadata": {
    "collapsed": true
   },
   "outputs": [],
   "source": [
    "# implemente sua solução aqui"
   ]
  },
  {
   "cell_type": "markdown",
   "metadata": {},
   "source": [
    "** Ex 5: Mude a solução do exercício 5, considerando os novos requisitos**\n",
    "\n",
    "- será perguntado ao usuário quantos nomes deseja digitar (x)\n",
    "- o sistema perguntará x vezes para que o usuário digite um nome\n",
    "- quando o usuário digitar o último nome, o sistema deve encerrar e imprimir a lista ordenada de valores\n",
    "\n"
   ]
  },
  {
   "cell_type": "code",
   "execution_count": null,
   "metadata": {
    "collapsed": true
   },
   "outputs": [],
   "source": [
    "# implemente sua solução aqui"
   ]
  },
  {
   "cell_type": "markdown",
   "metadata": {},
   "source": [
    "** Ex 6: A partir da lista abaixo, continue a implementação para que seja perguntado ao usuário em qual posição deseja inserir o novo valor. Após o usuário informar a posição, deverá ser pedido que digite um novo nome. Seu sistema deverá inserir esse novo nome na posição informada pelo usuário.**"
   ]
  },
  {
   "cell_type": "code",
   "execution_count": null,
   "metadata": {
    "collapsed": true
   },
   "outputs": [],
   "source": [
    "# implemente sua solução aqui\n",
    "linguagens = [\"Python\", \"Java\", \"Lua\"]\n"
   ]
  },
  {
   "cell_type": "markdown",
   "metadata": {},
   "source": [
    "** Ex 7: A partir da lista abaixo, implemente o mesmo exemplo do exercício anterior, dessa vez pedindo ao usuário que informe de qual posição será excluído o registro e implemente a remoção do valor da posição informada pelo usuário. **"
   ]
  },
  {
   "cell_type": "code",
   "execution_count": null,
   "metadata": {
    "collapsed": true
   },
   "outputs": [],
   "source": [
    "# implemente sua solução aqui\n",
    "linguagens = [\"Python\", \"Java\", \"Lua\"]\n"
   ]
  },
  {
   "cell_type": "markdown",
   "metadata": {},
   "source": [
    "** Ex 8: Implemente um sistema que pergunte ao usuário qual opção gostaria de usar para remoção: por posição ou por valor informado. De acordo com a opção escolhida, implemente a remoção. Exemplo: se o usuário escolheu remover por posição e informou a posição 2, o sistema deverá remover o valor Lua. Se escolher remover por valor e informou Python, então o sistema deverá remover o item Python da lista.**"
   ]
  },
  {
   "cell_type": "code",
   "execution_count": null,
   "metadata": {
    "collapsed": true
   },
   "outputs": [],
   "source": [
    "# implemente sua solução aqui\n",
    "linguagens = [\"Python\", \"Java\", \"Lua\"]"
   ]
  },
  {
   "cell_type": "markdown",
   "metadata": {},
   "source": [
    "** Ex 9: Dada a lista abaixo, implemente uma solução que pergunte ao usuário qual valor deseja localizar. O seu sistema deverá informar quantas vezes o valor procurado foi achado na lista. Note que, caso o valor não esteja na lista, seu sistema deverá informar uma mensagem clara, sem ser a mensagem de erro do Python. Para isso você usará uma estrutura de try-except mostrada na parte de explicações do assunto neste caderno**"
   ]
  },
  {
   "cell_type": "code",
   "execution_count": null,
   "metadata": {
    "collapsed": true
   },
   "outputs": [],
   "source": [
    "# implemente sua solução aqui\n",
    "linguagens = [\"Python\", \"Java\", \"Lua\"]"
   ]
  },
  {
   "cell_type": "markdown",
   "metadata": {},
   "source": [
    "** Ex 10: Crie um sistema interativo que forneça as seguintes opções ao usuário:**\n",
    "\n",
    "- inserir valores em uma lista\n",
    "- remover valor de uma lista\n",
    "- ordenar valores de uma lista\n",
    "- localização valores de uma lista\n",
    "- sair"
   ]
  },
  {
   "cell_type": "code",
   "execution_count": null,
   "metadata": {
    "collapsed": true
   },
   "outputs": [],
   "source": [
    "# implemente sua solução aqui"
   ]
  }
 ],
 "metadata": {
  "kernelspec": {
   "display_name": "Python 3",
   "language": "python",
   "name": "python3"
  },
  "language_info": {
   "codemirror_mode": {
    "name": "ipython",
    "version": 3
   },
   "file_extension": ".py",
   "mimetype": "text/x-python",
   "name": "python",
   "nbconvert_exporter": "python",
   "pygments_lexer": "ipython3",
   "version": "3.6.1"
  }
 },
 "nbformat": 4,
 "nbformat_minor": 2
}
