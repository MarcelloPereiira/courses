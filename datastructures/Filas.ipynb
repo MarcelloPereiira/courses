{
 "cells": [
  {
   "cell_type": "markdown",
   "metadata": {},
   "source": [
    "# Filas"
   ]
  },
  {
   "cell_type": "markdown",
   "metadata": {},
   "source": [
    "## Introdução"
   ]
  },
  {
   "cell_type": "markdown",
   "metadata": {},
   "source": [
    "Assim como as pilhas, filas são utilizadas para se estruturar um determinado conjunto de dados. No entando, diferente das Pilhas, as operações nas filas usam o conceito de FIFO (*first in first out*), ou seja, o primeiro a sair é o primeiro que entrou na fila."
   ]
  },
  {
   "cell_type": "markdown",
   "metadata": {},
   "source": [
    "## Filas em Python"
   ]
  },
  {
   "cell_type": "markdown",
   "metadata": {},
   "source": [
    "Ao contrário das pilhas, as filas possuem uma classe para a manipulação de filas, que pode ser consultada na [documentação oficial do Python](https://docs.python.org/3/library/queue.html). Veja um exemplo abaixo:"
   ]
  },
  {
   "cell_type": "code",
   "execution_count": null,
   "metadata": {},
   "outputs": [],
   "source": [
    "import queue \n",
    "\n",
    "q = queue.Queue()\n",
    "\n",
    "q.put(\"A\")\n",
    "q.put(\"B\")\n",
    "q.put(\"C\")\n",
    "\n",
    "print(\"Primeiro a sair:\", q.get())\n",
    "print(\"Segundo a sair:\", q.get())\n",
    "print(\"Terceiro a sair:\", q.get())"
   ]
  },
  {
   "cell_type": "markdown",
   "metadata": {},
   "source": [
    "Inicialmente deve-se importar o módulo *queue*, que contém a classe *Queue*. Na segunda linha, cria-se uma fila vazia. Sempre que precisar trabalhar com filas, essas duas linhas devem ser implementadas:"
   ]
  },
  {
   "cell_type": "code",
   "execution_count": null,
   "metadata": {
    "collapsed": true
   },
   "outputs": [],
   "source": [
    "# importar o módulo de filas\n",
    "import queue \n",
    "\n",
    "# criando uma fila vazia\n",
    "fila = queue.Queue()"
   ]
  },
  {
   "cell_type": "markdown",
   "metadata": {},
   "source": [
    "## Operações com Filas"
   ]
  },
  {
   "cell_type": "markdown",
   "metadata": {},
   "source": [
    "As filas têm duas operações básicas, abaixo relacionadas com as funções em Python: "
   ]
  },
  {
   "cell_type": "markdown",
   "metadata": {},
   "source": [
    "- enqueue (inserir): put()\n",
    "- dequeue (retirar): get()"
   ]
  },
  {
   "cell_type": "code",
   "execution_count": null,
   "metadata": {},
   "outputs": [],
   "source": [
    "# importar o módulo de filas\n",
    "import queue \n",
    "\n",
    "# criando uma fila vazia\n",
    "fila = queue.Queue()\n",
    "\n",
    "# inserindo um elemento na fila\n",
    "fila.put(\"Pessoa A\")\n",
    "\n",
    "# inserindo outro elemento na fila\n",
    "fila.put(\"Pessoa B\")\n",
    "\n",
    "# inserindo outro elemento na fila\n",
    "fila.put(\"Pessoa C\")\n",
    "\n",
    "# retirando um elemento da fila - o primeiro que entrou\n",
    "pessoaAtendida = fila.get()\n",
    "\n",
    "print(\"A primeira pessoa atendida é:\", pessoaAtendida)"
   ]
  },
  {
   "cell_type": "markdown",
   "metadata": {},
   "source": [
    "## Outras Operações com Filas em Python"
   ]
  },
  {
   "cell_type": "markdown",
   "metadata": {},
   "source": [
    "### Tamanho Máximo"
   ]
  },
  {
   "cell_type": "markdown",
   "metadata": {},
   "source": [
    "Pode-se definir um tamanho máximo para a fila:"
   ]
  },
  {
   "cell_type": "code",
   "execution_count": null,
   "metadata": {},
   "outputs": [],
   "source": [
    "# importar o módulo de filas\n",
    "import queue \n",
    "\n",
    "# criando uma fila vazia\n",
    "fila = queue.Queue(maxsize=3)"
   ]
  },
  {
   "cell_type": "markdown",
   "metadata": {},
   "source": [
    "### Tamanho atual da fila"
   ]
  },
  {
   "cell_type": "code",
   "execution_count": null,
   "metadata": {},
   "outputs": [],
   "source": [
    "import queue \n",
    "\n",
    "fila = queue.Queue()\n",
    "\n",
    "fila.put(\"Pessoa A\")\n",
    "fila.put(\"Pessoa B\")\n",
    "\n",
    "print(\"Tamanho da fila: \", fila.qsize())"
   ]
  },
  {
   "cell_type": "markdown",
   "metadata": {},
   "source": [
    "### Verificar se a fila está cheia"
   ]
  },
  {
   "cell_type": "code",
   "execution_count": null,
   "metadata": {},
   "outputs": [],
   "source": [
    "# importar o módulo de filas\n",
    "import queue \n",
    "\n",
    "# criando uma fila vazia com máximo de um elemento\n",
    "fila = queue.Queue(maxsize=1)\n",
    "\n",
    "# inserindo um elemento na fila\n",
    "fila.put(\"Pessoa A\")\n",
    "\n",
    "# a função fila.full() verifica se a fila está cheia\n",
    "print(\"Depois que entrou a Pessoa A, a fila está cheia?\", fila.full())\n",
    "\n",
    "fila.get()\n",
    "# a função fila.full() verifica se a fila está cheia\n",
    "print(\"Depois que saiu a Pessoa A, a fila está cheia?\", fila.full())"
   ]
  },
  {
   "cell_type": "markdown",
   "metadata": {},
   "source": [
    "## Exercícios"
   ]
  },
  {
   "cell_type": "markdown",
   "metadata": {},
   "source": [
    "**Ex 1: Crie uma fila e faça a inserção de 3 elementos.** "
   ]
  },
  {
   "cell_type": "code",
   "execution_count": null,
   "metadata": {
    "collapsed": true
   },
   "outputs": [],
   "source": [
    "# crie sua fila aqui. Não esqueça de importar o módulo e iniciar uma fila vazia. "
   ]
  },
  {
   "cell_type": "markdown",
   "metadata": {},
   "source": [
    "**Ex 2: Crie uma fila, faça a inserção de 3 elementos. Depois implemente a saída de cada elemento da fila, imprimindo o nome do elemento que saiu.** "
   ]
  },
  {
   "cell_type": "code",
   "execution_count": null,
   "metadata": {
    "collapsed": true
   },
   "outputs": [],
   "source": [
    "# crie sua fila aqui. Não esqueça de importar o módulo e iniciar uma fila vazia. "
   ]
  },
  {
   "cell_type": "markdown",
   "metadata": {},
   "source": [
    "**Ex 3: Crie uma fila a partir da digitação de 3 nomes digitados pelo usuário.**"
   ]
  },
  {
   "cell_type": "code",
   "execution_count": null,
   "metadata": {
    "collapsed": true
   },
   "outputs": [],
   "source": [
    "# crie sua fila aqui. Não esqueça de importar o módulo e iniciar uma fila vazia. "
   ]
  },
  {
   "cell_type": "markdown",
   "metadata": {},
   "source": [
    "**Ex 4: Crie uma fila com o máximo de 3 elementos e crie um código para, caso a fila esteja cheia, imprimir uma mensagem \"Fila Cheia\"**."
   ]
  },
  {
   "cell_type": "code",
   "execution_count": null,
   "metadata": {
    "collapsed": true
   },
   "outputs": [],
   "source": [
    "# crie sua fila aqui. Não esqueça de importar o módulo e iniciar uma fila vazia. "
   ]
  },
  {
   "cell_type": "markdown",
   "metadata": {},
   "source": [
    "**Ex 4: Crie uma fila com o máximo de 3 elementos e crie um código para que, caso a fila esteja cheia, remova um elemento da fila para abrir vaga na fila para mais um elemento. ** "
   ]
  },
  {
   "cell_type": "code",
   "execution_count": null,
   "metadata": {
    "collapsed": true
   },
   "outputs": [],
   "source": [
    "# crie sua fila aqui. Não esqueça de importar o módulo e iniciar uma fila vazia. "
   ]
  }
 ],
 "metadata": {
  "kernelspec": {
   "display_name": "Python 3",
   "language": "python",
   "name": "python3"
  },
  "language_info": {
   "codemirror_mode": {
    "name": "ipython",
    "version": 3
   },
   "file_extension": ".py",
   "mimetype": "text/x-python",
   "name": "python",
   "nbconvert_exporter": "python",
   "pygments_lexer": "ipython3",
   "version": "3.6.1"
  }
 },
 "nbformat": 4,
 "nbformat_minor": 2
}
