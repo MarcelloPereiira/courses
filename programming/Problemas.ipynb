{
 "cells": [
  {
   "cell_type": "markdown",
   "metadata": {},
   "source": [
    "## Técnicas de Programação"
   ]
  },
  {
   "cell_type": "markdown",
   "metadata": {},
   "source": [
    "Escreva um programa que receba dois números digitados pelo usuário e informe se são iguais."
   ]
  },
  {
   "cell_type": "code",
   "execution_count": null,
   "metadata": {
    "collapsed": true
   },
   "outputs": [],
   "source": []
  },
  {
   "cell_type": "markdown",
   "metadata": {},
   "source": [
    "Escreva um programa que informe se um número digitado pelo usuário é múltiplo de 17."
   ]
  },
  {
   "cell_type": "code",
   "execution_count": null,
   "metadata": {
    "collapsed": true
   },
   "outputs": [],
   "source": []
  },
  {
   "cell_type": "markdown",
   "metadata": {},
   "source": [
    "Implemente uma solução para que seja impressa a palavra \"Python\" 10 vezes usando while."
   ]
  },
  {
   "cell_type": "code",
   "execution_count": null,
   "metadata": {
    "collapsed": true
   },
   "outputs": [],
   "source": []
  },
  {
   "cell_type": "markdown",
   "metadata": {},
   "source": [
    "Faça o mesmo exercício anterior, dessa vez usando for."
   ]
  },
  {
   "cell_type": "code",
   "execution_count": null,
   "metadata": {
    "collapsed": true
   },
   "outputs": [],
   "source": []
  },
  {
   "cell_type": "markdown",
   "metadata": {},
   "source": [
    "Implemente um programa que imprima todos os números positivos menores do que o um número que o usuário digitar. Se o usuário digitar 10, seu programa deverá imprimir 9,8,7,6,5,4,3,2,1."
   ]
  },
  {
   "cell_type": "code",
   "execution_count": null,
   "metadata": {
    "collapsed": true
   },
   "outputs": [],
   "source": []
  },
  {
   "cell_type": "markdown",
   "metadata": {},
   "source": [
    "Dado o conjunto de valores abaixo, implemente um programa que imprima o valor de cada número elevado ao quadrado."
   ]
  },
  {
   "cell_type": "code",
   "execution_count": 1,
   "metadata": {
    "collapsed": true
   },
   "outputs": [],
   "source": [
    "numeros= (2,3,6,10,20)"
   ]
  },
  {
   "cell_type": "markdown",
   "metadata": {},
   "source": [
    "Uma empresa deseja criar um programa que calcule o aumento do salário de seus funcionários, de acordo com as seguintes regras:\n",
    "\n",
    "- Caso salário esteja entre 0 e 1500 (inclusive), o salário será aumentado em 25%. \n",
    "- Caso o salário esteja entre 1500 e 4500 (inclusive), o salário será reajustado em 20%\n",
    "- Caso o salário seja maior do que 4500, o salário será aumentado em 15%"
   ]
  },
  {
   "cell_type": "code",
   "execution_count": null,
   "metadata": {
    "collapsed": true
   },
   "outputs": [],
   "source": [
    "vencimentos = (1000,1200,900,4000,2000,3000)"
   ]
  },
  {
   "cell_type": "markdown",
   "metadata": {},
   "source": [
    "Crie um programa que, dado um número digitado por um usuário, imprima a tabuada até 10."
   ]
  },
  {
   "cell_type": "code",
   "execution_count": null,
   "metadata": {
    "collapsed": true
   },
   "outputs": [],
   "source": []
  },
  {
   "cell_type": "markdown",
   "metadata": {},
   "source": [
    "Crie um programa que peça ao usuário que digite um número e fique perguntando até o usuário acertar o número sorteado ou o programa esgotar as 5 tentativas. O código abaixo é um exemplo para sorteio de um número até 10."
   ]
  },
  {
   "cell_type": "code",
   "execution_count": 2,
   "metadata": {
    "collapsed": true
   },
   "outputs": [],
   "source": [
    "import random \n",
    "\n",
    "numeroSorteado = random.randrange(10)"
   ]
  },
  {
   "cell_type": "markdown",
   "metadata": {},
   "source": [
    "Escreva um programa que imprima um triângulo de acordo com um número de linhas, a ser digitado pelo usuário. A saída seria algo assim (para 5 linhas):\n",
    "\n",
    "```\n",
    "*\n",
    "**\n",
    "***\n",
    "****\n",
    "*****\n",
    "```"
   ]
  },
  {
   "cell_type": "code",
   "execution_count": null,
   "metadata": {
    "collapsed": true
   },
   "outputs": [],
   "source": []
  },
  {
   "cell_type": "markdown",
   "metadata": {},
   "source": [
    "## Estruturas de Dados"
   ]
  },
  {
   "cell_type": "markdown",
   "metadata": {},
   "source": [
    "Crie um programa que gere uma pilha com 3 notas (8, 5, 6), usando operações de push. Ao final, seu programa deverá imprimir os valores inseridos, usando operações de pop."
   ]
  },
  {
   "cell_type": "code",
   "execution_count": null,
   "metadata": {
    "collapsed": true
   },
   "outputs": [],
   "source": []
  },
  {
   "cell_type": "markdown",
   "metadata": {},
   "source": [
    "Modifique o programa anterior para que peça ao usuário que digite as 3 notas. Pesquise a função [input](https://docs.python.org/3/library/functions.html#input) para saber como executar a leitura de dados do teclado. "
   ]
  },
  {
   "cell_type": "code",
   "execution_count": null,
   "metadata": {
    "collapsed": true
   },
   "outputs": [],
   "source": []
  },
  {
   "cell_type": "markdown",
   "metadata": {},
   "source": [
    "Crie um programa que dada, a pilha de notas do exemplo acima, informe a menor nota e a maior."
   ]
  },
  {
   "cell_type": "code",
   "execution_count": null,
   "metadata": {
    "collapsed": true
   },
   "outputs": [],
   "source": []
  },
  {
   "cell_type": "markdown",
   "metadata": {},
   "source": [
    "Considerando a lista de valores abaixo, implemente a inserção de um novo valor na 5 posição."
   ]
  },
  {
   "cell_type": "code",
   "execution_count": null,
   "metadata": {
    "collapsed": true
   },
   "outputs": [],
   "source": [
    "linguagens = [\"C++\", \"PHP\", \"R\", \"Java\", \"Lua\", \"C\", \"Basic\", \"Cobol\"]"
   ]
  },
  {
   "cell_type": "markdown",
   "metadata": {},
   "source": [
    "Usando a mesma lista do exercício anterior, implemente um código que peça ao usuário que digite um nome de linguagem de programação. Caso esse nome exista na lista, o seu código deverá informar a posição dele na lista."
   ]
  },
  {
   "cell_type": "code",
   "execution_count": null,
   "metadata": {
    "collapsed": true
   },
   "outputs": [],
   "source": [
    "linguagens = [\"C++\", \"PHP\", \"R\", \"Java\", \"Lua\", \"C\", \"Basic\", \"Cobol\"]"
   ]
  },
  {
   "cell_type": "markdown",
   "metadata": {},
   "source": [
    "Crie um programa que peça ao usuário que digite dois números e a operação que deseja executar. Após a digitação dos valores e do operador, deverá ser impresso o resultado da operação."
   ]
  },
  {
   "cell_type": "code",
   "execution_count": null,
   "metadata": {
    "collapsed": true
   },
   "outputs": [],
   "source": []
  },
  {
   "cell_type": "markdown",
   "metadata": {},
   "source": [
    "Sem usar a função de busca em uma lista, crie um programa que informa se um determinado valor aparece ou não na lista. O programa deve perguntar ao usuário um valor e buscará esse valor da lista dada."
   ]
  },
  {
   "cell_type": "code",
   "execution_count": null,
   "metadata": {
    "collapsed": true
   },
   "outputs": [],
   "source": [
    "linguagens = [\"C++\", \"PHP\", \"R\", \"Java\", \"Lua\", \"C\", \"Basic\", \"Cobol\"]\n",
    "\n"
   ]
  },
  {
   "cell_type": "markdown",
   "metadata": {},
   "source": [
    "Faça um programa que peça ao usuário que adivinhe um número e continue a perguntar até o número escolhido for igual ao gerado randomicamente pelo programa."
   ]
  },
  {
   "cell_type": "code",
   "execution_count": null,
   "metadata": {
    "collapsed": true
   },
   "outputs": [],
   "source": [
    "import random \n",
    "\n",
    "# gerando um número aleatório de 1 a 10\n",
    "numero = random.randrange(10)\n",
    "    \n"
   ]
  },
  {
   "cell_type": "markdown",
   "metadata": {},
   "source": [
    "Faça um programa que gere os 6 números da mega-sena e pergunte ao usuário que informe 6 números. Ao final, seu programa deverá informar quantos números o usuário acertou."
   ]
  },
  {
   "cell_type": "code",
   "execution_count": null,
   "metadata": {
    "collapsed": true
   },
   "outputs": [],
   "source": [
    "import random \n",
    "\n",
    "# gerando os números da mega\n",
    "numeros = []\n",
    "for i in range(6):\n",
    "    numeros.append(random.randrange(60))\n",
    "    \n"
   ]
  },
  {
   "cell_type": "markdown",
   "metadata": {},
   "source": [
    "Considerando o código abaixo que retorna a hora do sistema, como você implementaria um programa que pedisse ao usuário que digitasse um número qualquer e, depois da digitação, o programa informaria o tempo que o usuário demorou para digitar?"
   ]
  },
  {
   "cell_type": "code",
   "execution_count": null,
   "metadata": {},
   "outputs": [],
   "source": [
    "from datetime import datetime\n",
    "\n",
    "horaAtual = datetime.now()\n",
    "print(horaAtual)"
   ]
  },
  {
   "cell_type": "markdown",
   "metadata": {},
   "source": [
    "## Estruturas de Dados e Técnicas de Programação"
   ]
  },
  {
   "cell_type": "markdown",
   "metadata": {},
   "source": [
    "Implemente um programa que solicite ao usuário que digite uma letra ou asterisco. Se o usuário digitar uma letra, o programa deverá empilhar o valor. Caso contrário, se o usuário digitar asterisco, o sistema tira o valor da pilha e mostra ao usuário. Caso o usuário digite #, o sistema deverá encerrar a execução e imprimir a lista resultante. "
   ]
  },
  {
   "cell_type": "code",
   "execution_count": null,
   "metadata": {
    "collapsed": true
   },
   "outputs": [],
   "source": []
  },
  {
   "cell_type": "markdown",
   "metadata": {},
   "source": [
    "A transformação de graus Celsius em graus Fahrenheit tem a seguinte fórmula: F = C + 273. Crie um programa que peça a temperatura em Celsius e transforme em Fahrenheit."
   ]
  },
  {
   "cell_type": "code",
   "execution_count": null,
   "metadata": {
    "collapsed": true
   },
   "outputs": [],
   "source": []
  },
  {
   "cell_type": "markdown",
   "metadata": {},
   "source": [
    "Crie um programa que calcule a média das notas a partir da pilha fornecida abaixo:"
   ]
  },
  {
   "cell_type": "code",
   "execution_count": null,
   "metadata": {
    "collapsed": true
   },
   "outputs": [],
   "source": [
    "notas = [10,4,6,8,7]"
   ]
  },
  {
   "cell_type": "markdown",
   "metadata": {},
   "source": [
    "Implemente um programa que implemente um gerenciador de fila. Ou seja, seu programa deve dar opções ao usuário de inserir e remover pessoas na fila. "
   ]
  },
  {
   "cell_type": "code",
   "execution_count": null,
   "metadata": {
    "collapsed": true
   },
   "outputs": [],
   "source": []
  },
  {
   "cell_type": "markdown",
   "metadata": {},
   "source": [
    "Implemente um programa que monte uma matriz, a partir de dados fornecidos pelo usuário. Seu programa deve pedir as dimensões da matriz (i e j) e, em seguida, pedir ao usuário que digite os valores da matriz, um por linha. Ao final o programa deverá imprimir a matriz"
   ]
  },
  {
   "cell_type": "code",
   "execution_count": null,
   "metadata": {
    "collapsed": true
   },
   "outputs": [],
   "source": []
  },
  {
   "cell_type": "markdown",
   "metadata": {},
   "source": [
    "Implemente um programa que peça ao usuário que digite x notas e informe a média delas"
   ]
  },
  {
   "cell_type": "code",
   "execution_count": null,
   "metadata": {
    "collapsed": true
   },
   "outputs": [],
   "source": []
  },
  {
   "cell_type": "markdown",
   "metadata": {},
   "source": [
    "Crie um programa gerenciador de listas de usuários, que apresente um menu para: 1) inserir usuários, 2) remover usuários, 3) Informar se um usuário está cadastrado, 4) listar usuários e 5) sair. Seu programa deverá usar o conceito de listas em Python, bem como estruturas de repetição e estruturas de decisão. "
   ]
  },
  {
   "cell_type": "code",
   "execution_count": null,
   "metadata": {
    "collapsed": true
   },
   "outputs": [],
   "source": []
  }
 ],
 "metadata": {
  "kernelspec": {
   "display_name": "Python 3",
   "language": "python",
   "name": "python3"
  },
  "language_info": {
   "codemirror_mode": {
    "name": "ipython",
    "version": 3
   },
   "file_extension": ".py",
   "mimetype": "text/x-python",
   "name": "python",
   "nbconvert_exporter": "python",
   "pygments_lexer": "ipython3",
   "version": "3.6.1"
  }
 },
 "nbformat": 4,
 "nbformat_minor": 2
}
