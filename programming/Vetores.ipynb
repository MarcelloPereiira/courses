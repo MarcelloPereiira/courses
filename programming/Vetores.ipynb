{
 "cells": [
  {
   "cell_type": "markdown",
   "metadata": {},
   "source": [
    "# Vetores"
   ]
  },
  {
   "cell_type": "markdown",
   "metadata": {},
   "source": [
    "## Introdução"
   ]
  },
  {
   "cell_type": "markdown",
   "metadata": {},
   "source": [
    "Vetores são estruturas de dados utilizadas para armazenamento de diversos valores, que podem ser acessados através de índices. A implementação acaba variando de acordo com a linguagem de programação, mas pode-se resumir de maneira geral:\n",
    "\n",
    "- Cada posição do vetor tem um índice ou chave\n",
    "- Quando é indexado, a primeira posição é o zero\n",
    "- Em algumas linguagens não são redimensionáveis\n",
    "- Pode ou não armazenar valores de diferentes tipos, dependendo da linguagem"
   ]
  },
  {
   "cell_type": "markdown",
   "metadata": {},
   "source": [
    "Além disso, um vetor pode ser de diversas dimensões. Em um vetor unidimensional, por exemplo, um elemento do vetor pode ser acessado por um índice. Já em um vetor bidimensional, são necessários dois índices para localizar um elemento de um vetor. Esse caso especial é conhecido como matriz."
   ]
  },
  {
   "cell_type": "markdown",
   "metadata": {},
   "source": [
    "## Linguagens de Programação"
   ]
  },
  {
   "cell_type": "markdown",
   "metadata": {},
   "source": [
    "Veja alguns exemplos:"
   ]
  },
  {
   "cell_type": "markdown",
   "metadata": {},
   "source": [
    "**Java**"
   ]
  },
  {
   "cell_type": "markdown",
   "metadata": {},
   "source": [
    "```\n",
    "String[] linguagens = {\"Java\", \"Python\", \"C\"}\n",
    "\n",
    "```\n",
    "\n",
    "OU\n",
    "\n",
    "```\n",
    " String[] linguagens = new String[3];\n",
    " linguagens[0] = \"Java\";\n",
    "```"
   ]
  },
  {
   "cell_type": "markdown",
   "metadata": {},
   "source": [
    "**PHP**"
   ]
  },
  {
   "cell_type": "markdown",
   "metadata": {},
   "source": [
    "Usando índices\n",
    "\n",
    "```\n",
    "<?php\n",
    "$array = array(\"foo\", \"bar\", \"hello\", \"world\");\n",
    "?>\n",
    "\n",
    "```\n",
    "\n",
    "Usando chaves\n",
    "\n",
    "```\n",
    "<?php\n",
    "$arr[\"x\"] = 42; \n",
    "?>\n",
    "```"
   ]
  },
  {
   "cell_type": "markdown",
   "metadata": {},
   "source": [
    "**Python**"
   ]
  },
  {
   "cell_type": "markdown",
   "metadata": {},
   "source": [
    "Usando estruturas de listas:"
   ]
  },
  {
   "cell_type": "code",
   "execution_count": 4,
   "metadata": {},
   "outputs": [
    {
     "name": "stdout",
     "output_type": "stream",
     "text": [
      "O primeiro valor é PHP\n"
     ]
    }
   ],
   "source": [
    "linguagens = [\"Java\", \"PHP\", \"C\"]\n",
    "print(\"O primeiro valor é\", linguagens[1])"
   ]
  },
  {
   "cell_type": "markdown",
   "metadata": {},
   "source": [
    "Usando biblioteca própria, pode-se restringir os tipos de valores:"
   ]
  },
  {
   "cell_type": "code",
   "execution_count": 13,
   "metadata": {},
   "outputs": [
    {
     "name": "stdout",
     "output_type": "stream",
     "text": [
      "array('d', [10.0, 20.0, 23.0, 14.0, 5.1])\n"
     ]
    }
   ],
   "source": [
    "from array import array\n",
    "\n",
    "#apenas float\n",
    "precos = array('d', [10, 20, 23, 14, 5.1])\n",
    "print(precos)\n"
   ]
  },
  {
   "cell_type": "markdown",
   "metadata": {},
   "source": [
    "Por outro lado, se deseja-se adicionar um valor que não seja do tipo definido do vetor, dá erro"
   ]
  },
  {
   "cell_type": "code",
   "execution_count": 14,
   "metadata": {},
   "outputs": [
    {
     "name": "stdout",
     "output_type": "stream",
     "text": [
      "array('d', [10.0, 20.0, 23.0, 14.0, 5.1])\n"
     ]
    },
    {
     "ename": "TypeError",
     "evalue": "must be real number, not str",
     "output_type": "error",
     "traceback": [
      "\u001b[1;31m---------------------------------------------------------------------------\u001b[0m",
      "\u001b[1;31mTypeError\u001b[0m                                 Traceback (most recent call last)",
      "\u001b[1;32m<ipython-input-14-2026a6e9c741>\u001b[0m in \u001b[0;36m<module>\u001b[1;34m()\u001b[0m\n\u001b[0;32m      5\u001b[0m \u001b[0mprint\u001b[0m\u001b[1;33m(\u001b[0m\u001b[0mprecos\u001b[0m\u001b[1;33m)\u001b[0m\u001b[1;33m\u001b[0m\u001b[0m\n\u001b[0;32m      6\u001b[0m \u001b[1;33m\u001b[0m\u001b[0m\n\u001b[1;32m----> 7\u001b[1;33m \u001b[0mprecos\u001b[0m\u001b[1;33m.\u001b[0m\u001b[0mappend\u001b[0m\u001b[1;33m(\u001b[0m\u001b[1;34m\"Java\"\u001b[0m\u001b[1;33m)\u001b[0m\u001b[1;33m\u001b[0m\u001b[0m\n\u001b[0m",
      "\u001b[1;31mTypeError\u001b[0m: must be real number, not str"
     ]
    }
   ],
   "source": [
    "from array import array\n",
    "\n",
    "#apenas float\n",
    "precos = array('d', [10, 20, 23, 14, 5.1])\n",
    "print(precos)\n",
    "\n",
    "precos.append(\"Java\")"
   ]
  },
  {
   "cell_type": "markdown",
   "metadata": {},
   "source": [
    "Para saber mais sobre esse módulo em Python, acesse  https://docs.python.org/3/library/array.html#module-array"
   ]
  },
  {
   "cell_type": "markdown",
   "metadata": {},
   "source": [
    "Importante ressaltar que cada linguagem possui suas bibliotecas e funções para manipulação de vetores, geralmente buscando facilitar a operação desse tipo de estrutura de dados."
   ]
  },
  {
   "cell_type": "markdown",
   "metadata": {},
   "source": [
    "## Operações em Python"
   ]
  },
  {
   "cell_type": "markdown",
   "metadata": {},
   "source": [
    "Por usar a mesma estrutura de listas lineares, um vetor tem as mesmas operações em Python, ou seja:\n",
    "\n",
    "- insert: insere um valor X na posição Y do vetor\n",
    "- remove: retira um determinado valor do vetor\n",
    "- count: contar o número de ocorrências de um valor no vetor\n",
    "- reverse: inverter a posição dos valores\n",
    "- index: informar a posição de um valor na lista\n",
    "- pop: retirar um elemento\n",
    "- append: adicionar ao final"
   ]
  },
  {
   "cell_type": "markdown",
   "metadata": {},
   "source": [
    "## Exercícios"
   ]
  },
  {
   "cell_type": "markdown",
   "metadata": {},
   "source": [
    "**Ex 1: Escreva um programa que imprima os valores de um vetor. O vetor deve ser inicializado com no mínimo 5 valores **"
   ]
  },
  {
   "cell_type": "code",
   "execution_count": null,
   "metadata": {
    "collapsed": true
   },
   "outputs": [],
   "source": []
  },
  {
   "cell_type": "markdown",
   "metadata": {},
   "source": [
    "**Ex 2: Escreva um programa que salve os 10 primeiros números pares em um vetor**"
   ]
  },
  {
   "cell_type": "code",
   "execution_count": null,
   "metadata": {
    "collapsed": true
   },
   "outputs": [],
   "source": []
  },
  {
   "cell_type": "markdown",
   "metadata": {},
   "source": [
    "**Ex 3: Faça um programa que pergunte ao usuário um nome de linguagem e, caso essa linguagem exista no vetor, informe a posição dela. Dica: pesquise sobre try/except para implementar sua solução, caso o valor não exista.**"
   ]
  },
  {
   "cell_type": "code",
   "execution_count": null,
   "metadata": {
    "collapsed": true
   },
   "outputs": [],
   "source": [
    "linguagens = [\"Java\", \"PHP\", \"C\"]"
   ]
  },
  {
   "cell_type": "markdown",
   "metadata": {},
   "source": [
    "**Ex 4: Crie um programa que peça ao usuário que informe as notas de um aluno e depois calcule a média. Use vetores na sua solução e só aceite números inteiros. Caso o usuário digite um valor que não seja um número inteiro, seu programa deverá informar o erro e pedir novo número**"
   ]
  },
  {
   "cell_type": "code",
   "execution_count": null,
   "metadata": {
    "collapsed": true
   },
   "outputs": [],
   "source": []
  }
 ],
 "metadata": {
  "kernelspec": {
   "display_name": "Python 3",
   "language": "python",
   "name": "python3"
  },
  "language_info": {
   "codemirror_mode": {
    "name": "ipython",
    "version": 3
   },
   "file_extension": ".py",
   "mimetype": "text/x-python",
   "name": "python",
   "nbconvert_exporter": "python",
   "pygments_lexer": "ipython3",
   "version": "3.6.1"
  }
 },
 "nbformat": 4,
 "nbformat_minor": 2
}
