{
 "cells": [
  {
   "cell_type": "markdown",
   "metadata": {},
   "source": [
    "# Operadores"
   ]
  },
  {
   "cell_type": "markdown",
   "metadata": {},
   "source": [
    "## Introdução"
   ]
  },
  {
   "cell_type": "markdown",
   "metadata": {},
   "source": [
    "Como qualquer linguagem de programação, Python contém uma série de operadores para execução de operações entre valores/variáveis. Boa parte dos operadores são iguais a de outras linguagens, o que facilita o uso para quem já programa em outra linguagem. \n",
    "\n",
    "No entanto, Python contém alguns operadores que são específicos, como o cálculo de potenciação. Abaixo são mostrados os principais operadores, junto com exercícios para execução. Alguns operadores serão explicados em aulas posteriores, como o uso de operadores booleanos em estruturas de controle.\n",
    "\n",
    "Não se limite aos exemplos dados, pois a ideia é que você pratique até se sentir 100% confortável com o uso dos operadores. Por isso, esteja livre para criar novos exemplos e ver a execução deles. Em programação não tem jeito melhor de aprender do que fazendo :-)\n"
   ]
  },
  {
   "cell_type": "markdown",
   "metadata": {},
   "source": [
    "## Soma"
   ]
  },
  {
   "cell_type": "markdown",
   "metadata": {},
   "source": [
    "Execute o código abaixo e imprima o valor da última soma (os dois primeiros já foram feitos)."
   ]
  },
  {
   "cell_type": "code",
   "execution_count": 2,
   "metadata": {},
   "outputs": [
    {
     "name": "stdout",
     "output_type": "stream",
     "text": [
      "5\n",
      "13\n"
     ]
    }
   ],
   "source": [
    "soma = 2 + 3\n",
    "print(soma)\n",
    "soma = 2 + 5 + 6\n",
    "print(soma)\n",
    "soma = 2 + 4 + 8 + 3"
   ]
  },
  {
   "cell_type": "markdown",
   "metadata": {},
   "source": [
    "Experimente criar novas variáveis de soma, incluindo o uso de parênteses para isolar expressões."
   ]
  },
  {
   "cell_type": "code",
   "execution_count": 3,
   "metadata": {
    "collapsed": true
   },
   "outputs": [],
   "source": [
    "# implemente mais exemplos de soma"
   ]
  },
  {
   "cell_type": "markdown",
   "metadata": {},
   "source": [
    "Agora faça o mesmo com o uso de variáveis, criando 2 ou 3 variáveis e executando operações de soma entre elas."
   ]
  },
  {
   "cell_type": "code",
   "execution_count": 4,
   "metadata": {
    "collapsed": true
   },
   "outputs": [],
   "source": [
    "# use variáveis"
   ]
  },
  {
   "cell_type": "markdown",
   "metadata": {},
   "source": [
    "## Subtração"
   ]
  },
  {
   "cell_type": "markdown",
   "metadata": {},
   "source": [
    "O uso do operador de subtração é igual em outras linguagens. Modifique e execute o código abaixo, tal como fez na soma."
   ]
  },
  {
   "cell_type": "code",
   "execution_count": 5,
   "metadata": {
    "collapsed": true
   },
   "outputs": [],
   "source": [
    "# imprima o valor de cada operação abaixo\n",
    "diferenca = 3 - 2\n",
    "diferenca = 5 - 9\n",
    "diferenca = 9 - 3 - 4"
   ]
  },
  {
   "cell_type": "markdown",
   "metadata": {},
   "source": [
    "Agora use variáveis:"
   ]
  },
  {
   "cell_type": "code",
   "execution_count": 6,
   "metadata": {
    "collapsed": true
   },
   "outputs": [],
   "source": [
    "# use variáveis"
   ]
  },
  {
   "cell_type": "markdown",
   "metadata": {},
   "source": [
    "Experimente agora combinar com operações de soma. Execute para ver o resultado:"
   ]
  },
  {
   "cell_type": "code",
   "execution_count": 7,
   "metadata": {
    "collapsed": true
   },
   "outputs": [],
   "source": [
    "# implemente expressões que envolvam soma e subtração"
   ]
  },
  {
   "cell_type": "markdown",
   "metadata": {},
   "source": [
    "## Multiplicação"
   ]
  },
  {
   "cell_type": "markdown",
   "metadata": {},
   "source": [
    "Para cálculo do produto entre dois valores, basta usar o operador *:"
   ]
  },
  {
   "cell_type": "code",
   "execution_count": 8,
   "metadata": {},
   "outputs": [
    {
     "name": "stdout",
     "output_type": "stream",
     "text": [
      "27\n"
     ]
    }
   ],
   "source": [
    "produto = 3 * 9\n",
    "print(produto)\n",
    "produto = 7 * 2"
   ]
  },
  {
   "cell_type": "markdown",
   "metadata": {},
   "source": [
    "Crie novas expressões de multiplicação, dessa vez com o uso de variáveis"
   ]
  },
  {
   "cell_type": "code",
   "execution_count": 10,
   "metadata": {
    "collapsed": true
   },
   "outputs": [],
   "source": [
    "# use variáveis"
   ]
  },
  {
   "cell_type": "markdown",
   "metadata": {},
   "source": [
    "Agora você deve criar expressões para combinar os três operadores vistos até aqui: soma (+), subtração (-) e multplicação (*). Caso prefira, pode primeiro combinar operadores dois a dois (soma com multplicação, subtração com multplicação):"
   ]
  },
  {
   "cell_type": "code",
   "execution_count": 11,
   "metadata": {
    "collapsed": true
   },
   "outputs": [],
   "source": [
    "# crie expressões que contenham ao mesmo tempo soma, subtração e multiplicação. "
   ]
  },
  {
   "cell_type": "markdown",
   "metadata": {},
   "source": [
    "## Divisão"
   ]
  },
  {
   "cell_type": "markdown",
   "metadata": {},
   "source": [
    "Da mesma forma que em outras linguagens, basta usar o operador / para efetuar a divisão entre dois valores:"
   ]
  },
  {
   "cell_type": "code",
   "execution_count": 15,
   "metadata": {},
   "outputs": [
    {
     "name": "stdout",
     "output_type": "stream",
     "text": [
      "2.0\n",
      "2.6666666666666665\n"
     ]
    }
   ],
   "source": [
    "divisao = 4 / 2\n",
    "print(divisao)\n",
    "divisao = 8 / 3\n",
    "print(divisao)\n",
    "divisao = 4 / 2 / 2 "
   ]
  },
  {
   "cell_type": "markdown",
   "metadata": {},
   "source": [
    "Agora faça a divisão usando variáveis, ao invés de valores fixos:"
   ]
  },
  {
   "cell_type": "code",
   "execution_count": 17,
   "metadata": {
    "collapsed": true
   },
   "outputs": [],
   "source": [
    "# use variáveis"
   ]
  },
  {
   "cell_type": "markdown",
   "metadata": {},
   "source": [
    "## Outros Exemplos"
   ]
  },
  {
   "cell_type": "markdown",
   "metadata": {},
   "source": [
    "Antes de partir para outros operadores, vamos ver outros exemplos. Qual o valor final da variável soma, ao final da execução do código abaixo?"
   ]
  },
  {
   "cell_type": "code",
   "execution_count": 19,
   "metadata": {},
   "outputs": [],
   "source": [
    "soma = 3 + 5\n",
    "soma += 7\n",
    "print(soma)"
   ]
  },
  {
   "cell_type": "markdown",
   "metadata": {},
   "source": [
    "O uso de operador + associado ao operador de atribuição (=), é uma forma reduzida de se escrever uma expressão que está usando o valor da própria variável de resultado. No caso da célula acima, as seguintes operações são equivalentes:\n",
    "\n",
    "```python\n",
    " soma += 7 \n",
    " ```\n",
    " \n",
    " é o mesmo que \n",
    " \n",
    " ```python \n",
    " soma = soma + 7\n",
    " ```"
   ]
  },
  {
   "cell_type": "markdown",
   "metadata": {},
   "source": [
    "Veja outros exemplos:"
   ]
  },
  {
   "cell_type": "code",
   "execution_count": 20,
   "metadata": {
    "collapsed": true
   },
   "outputs": [],
   "source": [
    "i = 4\n",
    "i -= 1"
   ]
  },
  {
   "cell_type": "markdown",
   "metadata": {},
   "source": [
    "Qual é o novo valor de i? Execute a célula acima para verificar!\n",
    "\n",
    "Agora faça o mesmo para a célula abaixo:"
   ]
  },
  {
   "cell_type": "code",
   "execution_count": 21,
   "metadata": {
    "collapsed": true
   },
   "outputs": [],
   "source": [
    "j = 3\n",
    "j *= 2\n",
    "\n",
    "k = 8\n",
    "k /= 2"
   ]
  },
  {
   "cell_type": "markdown",
   "metadata": {},
   "source": [
    "Essa forma de escrever expressões deixa seu código mais curto. Mas ele é legível para você? Isso depende do costume, por mais que nesse momento a forma extendida pareça melhor. "
   ]
  },
  {
   "cell_type": "markdown",
   "metadata": {},
   "source": [
    "## Outros Operadores"
   ]
  },
  {
   "cell_type": "markdown",
   "metadata": {},
   "source": [
    "### Resto"
   ]
  },
  {
   "cell_type": "code",
   "execution_count": null,
   "metadata": {
    "collapsed": true
   },
   "outputs": [],
   "source": [
    "resto = 8 % 2\n",
    "print(resto)\n",
    "\n",
    "resto = 5 % 2\n",
    "print(resto)"
   ]
  },
  {
   "cell_type": "markdown",
   "metadata": {},
   "source": [
    "### Potenciação"
   ]
  },
  {
   "cell_type": "code",
   "execution_count": null,
   "metadata": {
    "collapsed": true
   },
   "outputs": [],
   "source": [
    "resultado = 3 ** 4\n",
    "print(resultado)\n",
    "\n",
    "resultado = 2 ** 3\n",
    "print(resultado)"
   ]
  },
  {
   "cell_type": "markdown",
   "metadata": {},
   "source": [
    "**Desafio: ** Como se calcula a raiz quadrada de 8? Implemente abaixo\n",
    "\n",
    "Dica: só pesquise na Internet se não conseguir resolver esse desafio em 2 minutos. Desafie-se antes de usar o caminho fácil. Lembre-se que cada vez que você se desafia, mais fácil fica de aprender novos conteúdos :-)"
   ]
  },
  {
   "cell_type": "code",
   "execution_count": 23,
   "metadata": {
    "collapsed": true
   },
   "outputs": [],
   "source": [
    "# implemente o cálculo da raiz quadrada"
   ]
  },
  {
   "cell_type": "markdown",
   "metadata": {},
   "source": [
    "## Operações com Strings"
   ]
  },
  {
   "cell_type": "markdown",
   "metadata": {},
   "source": [
    "Até agora só usamos operadores com valores númericos. Alguns operadores podem ser usados para textos também!"
   ]
  },
  {
   "cell_type": "code",
   "execution_count": 25,
   "metadata": {},
   "outputs": [
    {
     "name": "stdout",
     "output_type": "stream",
     "text": [
      "Python3\n"
     ]
    }
   ],
   "source": [
    "linguagem = \"Python\"\n",
    "versao = \"3\"\n",
    "\n",
    "linguagem_utilizada = linguagem + versao\n",
    "\n",
    "print(linguagem_utilizada)"
   ]
  },
  {
   "cell_type": "markdown",
   "metadata": {},
   "source": [
    "No exemplo acima, o operador de soma (+) é utilizado para concatenar as strings \"Python\" e \"3\". Modifique o código na célula abaixo para imprimir um espaço entre as variáveis linguagem e versao. "
   ]
  },
  {
   "cell_type": "code",
   "execution_count": 26,
   "metadata": {
    "collapsed": true
   },
   "outputs": [],
   "source": [
    "# implemente o mesmo código da célula anterior, dessa vez inserindo um espaço entre as duas palavras"
   ]
  },
  {
   "cell_type": "markdown",
   "metadata": {},
   "source": [
    "A multiplicação também pode ser usada entre Strings. Veja o efeito na célula abaixo:"
   ]
  },
  {
   "cell_type": "code",
   "execution_count": 24,
   "metadata": {},
   "outputs": [
    {
     "name": "stdout",
     "output_type": "stream",
     "text": [
      "PythonPythonPython\n"
     ]
    }
   ],
   "source": [
    "linguagem = \"Python\" * 3\n",
    "print(linguagem)"
   ]
  },
  {
   "cell_type": "markdown",
   "metadata": {},
   "source": [
    "O uso da multiplicação sobre uma string literalmente multiplica o valor da string pelo número usado. No caso acima, a palavra \"Python\" foi multiplicada por 3, resultando em \"PythonPythonPython\"."
   ]
  }
 ],
 "metadata": {
  "kernelspec": {
   "display_name": "Python 3",
   "language": "python",
   "name": "python3"
  },
  "language_info": {
   "codemirror_mode": {
    "name": "ipython",
    "version": 3
   },
   "file_extension": ".py",
   "mimetype": "text/x-python",
   "name": "python",
   "nbconvert_exporter": "python",
   "pygments_lexer": "ipython3",
   "version": "3.6.3"
  }
 },
 "nbformat": 4,
 "nbformat_minor": 2
}
