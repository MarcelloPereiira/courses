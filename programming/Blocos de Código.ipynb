{
 "cells": [
  {
   "cell_type": "markdown",
   "metadata": {},
   "source": [
    "# Blocos de Código"
   ]
  },
  {
   "cell_type": "markdown",
   "metadata": {},
   "source": [
    "Assim como em outras linguagens de programação, um programa pode ser estruturado em Python através do uso de blocos de código. Esse tipo de estrutura é utilizada, por exemplo, quando se deseja agrupar instruções que só serão executadas sob determinadas condições. "
   ]
  },
  {
   "cell_type": "markdown",
   "metadata": {},
   "source": [
    "Veja um exemplo em Java:"
   ]
  },
  {
   "cell_type": "markdown",
   "metadata": {},
   "source": [
    "```\n",
    "if (a > 10) {\n",
    "\n",
    "    b = 20;\n",
    "    c = a * b;\n",
    "    \n",
    "}\n",
    "```"
   ]
  },
  {
   "cell_type": "markdown",
   "metadata": {},
   "source": [
    "No exemplo acima, usa-se as chaves para delimitar quais instruções serão executadas caso a condição (a > 10) seja atendida. Um outro exemplo em Java:"
   ]
  },
  {
   "cell_type": "markdown",
   "metadata": {},
   "source": [
    "```\n",
    "for (int i = 0; i<10; i++ {\n",
    "\n",
    "    soma = soma + i*2;\n",
    "    j = j - i;\n",
    "    \n",
    "}\n",
    "```"
   ]
  },
  {
   "cell_type": "markdown",
   "metadata": {},
   "source": [
    "Nesse outro exemplo, usa-se as chaves para indicar as instruções que serão executadas nessa estrutura de repetição."
   ]
  },
  {
   "cell_type": "markdown",
   "metadata": {},
   "source": [
    "O uso de caracteres delimitadores de bloco de código é comum a diversas linguagens. Em diversas linguagens, como Java e PHP, usa-se chaves para indicar o início e fim dos blocos de código. Já em Python, não se usa delimitadores para definir o início e fim de um bloco de código, mas sim indentação. Veja um exemplo abaixo: "
   ]
  },
  {
   "cell_type": "code",
   "execution_count": null,
   "metadata": {
    "collapsed": true
   },
   "outputs": [],
   "source": [
    "a = int(input(\"Digite um número: \"))\n",
    "\n",
    "c = 0\n",
    "\n",
    "if a > 10:\n",
    "    b = 20;\n",
    "    c = a * b;\n",
    "\n",
    "# A instrução abaixo está fora do bloco de código\n",
    "print(\"O valor de c é {}\".format(c))"
   ]
  },
  {
   "cell_type": "markdown",
   "metadata": {},
   "source": [
    "Veja que o bloco é iniciado com os dois pontos e, após apertar ENTER, automaticamente já é colocado uma tabulação para a instrução dentro do bloco de código. No exemplo acima, as instruções para indicar os valores de b e c, estão dentro do bloco de código iniciado no IF. Já a instrução que usa a função print está fora desse bloco (repare pela diferença de indentação)."
   ]
  },
  {
   "cell_type": "markdown",
   "metadata": {},
   "source": [
    "Agora experimente executar o mesmo código abaixo, reparando que as instruções estão sem indentação:"
   ]
  },
  {
   "cell_type": "code",
   "execution_count": null,
   "metadata": {
    "collapsed": true
   },
   "outputs": [],
   "source": [
    "a = int(input(\"Digite um número: \"))\n",
    "\n",
    "c = 0\n",
    "\n",
    "if a > 10:\n",
    "b = 20;\n",
    "c = a * b;\n",
    "\n",
    "# A instrução abaixo está fora do bloco de código\n",
    "print(\"O valor de c é {}\".format(c))"
   ]
  },
  {
   "cell_type": "markdown",
   "metadata": {},
   "source": [
    "Repare que o compilador apresenta um erro. Ou seja, em Python é **obrigatória** a inclusão de indentação para indicar quais instruções farão parte do bloco de código."
   ]
  },
  {
   "cell_type": "markdown",
   "metadata": {},
   "source": [
    "O que acontecerá se executar o código abaixo:"
   ]
  },
  {
   "cell_type": "code",
   "execution_count": null,
   "metadata": {
    "collapsed": true
   },
   "outputs": [],
   "source": [
    "for i in range(0,10):\n",
    "    print(\"O valor de i é\",i)\n",
    "    print(\"Final do Programa\")"
   ]
  },
  {
   "cell_type": "markdown",
   "metadata": {},
   "source": [
    "Por que a frase Final do Programa foi impressa várias vezes? Note que a instrução *print(\"Final do Programa\")* está dentro do bloco do código do *for*, o que indica enquanto a execução do programa estiver dentro da repetição, ou seja, 10 vezes. \n",
    "Uma forma de corrigir esse código, de modo que a frase \"Final do Programa\" só seja impressa uma vez é:"
   ]
  },
  {
   "cell_type": "code",
   "execution_count": null,
   "metadata": {
    "collapsed": true
   },
   "outputs": [],
   "source": [
    "for i in range(0,10):\n",
    "    print(\"O valor de i é\",i)\n",
    "print(\"Final do Programa\")"
   ]
  },
  {
   "cell_type": "markdown",
   "metadata": {},
   "source": [
    "Note que as instruções de um bloco de código devem estar com a mesma indentação. Veja um exemplo errado de indentação na célula abaixo:"
   ]
  },
  {
   "cell_type": "code",
   "execution_count": null,
   "metadata": {
    "collapsed": true
   },
   "outputs": [],
   "source": [
    "a = int(input(\"Digite um número: \"))\n",
    "\n",
    "c = 0\n",
    "\n",
    "if a > 10:\n",
    "    b = 20;\n",
    "  c = a * b;\n",
    "\n",
    "# A instrução abaixo está fora do bloco de código\n",
    "print(\"O valor de c é {}\".format(c))"
   ]
  },
  {
   "cell_type": "markdown",
   "metadata": {},
   "source": [
    "Ou seja, a instrução c = a \\* b; deve estar com a mesma indentação de b = 20. Em linguagens que usam delimitadores de início e fim, isso é opcional. Já em Python isso é obrigatório. Experimente usar o mesmo código da célula acima em uma nova célula abaixo, modificando a indentação e executando, de modo a verificar quais erros o compilador apresenta."
   ]
  },
  {
   "cell_type": "code",
   "execution_count": null,
   "metadata": {
    "collapsed": true
   },
   "outputs": [],
   "source": [
    "# Modifique as instruções abaixo, alterando a indentação e verificando o que \n",
    "# acontece quando o código é executado\n",
    "\n",
    "a = int(input(\"Digite um número: \"))\n",
    "\n",
    "c = 0\n",
    "\n",
    "if a > 10:\n",
    "    b = 20;\n",
    "  c = a * b;\n",
    "\n",
    "# A instrução abaixo está fora do bloco de código\n",
    "print(\"O valor de c é {}\".format(c))"
   ]
  }
 ],
 "metadata": {
  "kernelspec": {
   "display_name": "Python 3",
   "language": "python",
   "name": "python3"
  },
  "language_info": {
   "codemirror_mode": {
    "name": "ipython",
    "version": 3
   },
   "file_extension": ".py",
   "mimetype": "text/x-python",
   "name": "python",
   "nbconvert_exporter": "python",
   "pygments_lexer": "ipython3",
   "version": "3.6.1"
  }
 },
 "nbformat": 4,
 "nbformat_minor": 2
}
